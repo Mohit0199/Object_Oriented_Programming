{
 "cells": [
  {
   "cell_type": "code",
   "execution_count": 2,
   "id": "9dd9dd67-4564-4451-8acb-36aaf7cb981a",
   "metadata": {},
   "outputs": [],
   "source": [
    "# 1. Explain the importance of Functions.\n",
    "\n",
    "## Functions is very important in programming. It is used for code reusability, By function \n",
    "## we can organize code in structured way. Each function can represent a specific task or functionality,\n",
    "## making the code easier to understand, debug, and maintain."
   ]
  },
  {
   "cell_type": "code",
   "execution_count": 5,
   "id": "014963cb-df1a-4087-84d6-b091335cd1d4",
   "metadata": {},
   "outputs": [
    {
     "name": "stdout",
     "output_type": "stream",
     "text": [
      "Hello Mohit, Welcome to PWSkills.\n"
     ]
    }
   ],
   "source": [
    "# 2. Write a basic function to greet students. \n",
    "\n",
    "def greet(std):\n",
    "    return f\"Hello {std}, Welcome to PWSkills.\"\n",
    "\n",
    "print(greet(\"Mohit\"))"
   ]
  },
  {
   "cell_type": "code",
   "execution_count": 7,
   "id": "968c4f68-9d75-49c3-873b-e55067ab8b1b",
   "metadata": {},
   "outputs": [],
   "source": [
    "# 3. What s the difference between print and return statements? \n",
    "\n",
    "## In function we can print a statement or can return a statement.\n",
    "## If we use print in function then function output will be of None type,\n",
    "## which can not be use in further operations.\n",
    "## print will display the printed output, and return None by default.\n",
    "## When a function encounters a return statement, it stops executing any further code within the function.\n",
    "## and output will be any particular data type whichever we want to return\n",
    "## like str, list, int etc. which can be further used in diffrent operation."
   ]
  },
  {
   "cell_type": "code",
   "execution_count": 8,
   "id": "0999aba0-6534-4804-8b2f-4e87f430e2c1",
   "metadata": {},
   "outputs": [],
   "source": [
    "# 4. What are *args and **kwargs? \n",
    "\n",
    "## *args and **kwargs are used to give variable length arguments in function.\n",
    "## *args returns input data in tuple form and **kwargs will give in dictionary form.\n",
    "## *args means arguments and **kwargs means keyword arguments.\n",
    "## here '*args' and '**kwargs' are not keyword we can use any other word but important is '*' and '**'."
   ]
  },
  {
   "cell_type": "code",
   "execution_count": 9,
   "id": "cbb0964d-8c29-4f4e-9e36-37aa7b075914",
   "metadata": {},
   "outputs": [],
   "source": [
    "#  5. Explain the iterator function.\n",
    "\n",
    "## An iterator in Python is an object that enables traversal through a sequence of elements, \n",
    "## one at a time, without needing to store the entire sequence in memory.\n",
    "## It's implemented using __iter__() and __next__() methods, where __iter__() returns the iterator object itself\n",
    "## and __next__() returns the next item in the sequence or raises StopIteration when no more items are available.\n",
    "## Iterators are commonly used for efficient looping over large datasets or infinite sequences."
   ]
  },
  {
   "cell_type": "code",
   "execution_count": 14,
   "id": "0978c820-afcb-4215-8474-148d333e8c9d",
   "metadata": {},
   "outputs": [
    {
     "name": "stdin",
     "output_type": "stream",
     "text": [
      "enter a number:  5\n"
     ]
    },
    {
     "name": "stdout",
     "output_type": "stream",
     "text": [
      "1\n",
      "4\n",
      "9\n",
      "16\n",
      "25\n"
     ]
    }
   ],
   "source": [
    "# 6. Write a code that generates the squares of numbers from 1 to n using a generator.\n",
    "\n",
    "n = int(input(\"enter a number: \"))\n",
    "squares = (i**2 for i in range(1, n+1)) #using generator comprehension\n",
    "\n",
    "for i in squares:\n",
    "    print(i)"
   ]
  },
  {
   "cell_type": "code",
   "execution_count": 17,
   "id": "f6796f7b-b600-4ea4-816c-3415dc756ce8",
   "metadata": {},
   "outputs": [
    {
     "name": "stdin",
     "output_type": "stream",
     "text": [
      "Enter a number:  30\n"
     ]
    },
    {
     "name": "stdout",
     "output_type": "stream",
     "text": [
      "1\n",
      "2\n",
      "3\n",
      "4\n",
      "5\n",
      "6\n",
      "7\n",
      "8\n",
      "9\n",
      "11\n",
      "22\n"
     ]
    }
   ],
   "source": [
    "# 7. Write a code that generates palindromic numbers up to n using a generator.\n",
    "\n",
    "def palindromic_numbers(n):\n",
    "    for i in range(1, n+1):\n",
    "        num_str = str(i)\n",
    "        if num_str == num_str[::-1]:\n",
    "            yield i\n",
    "\n",
    "n = int(input(\"Enter a number: \"))\n",
    "\n",
    "palindromic_nums = palindromic_numbers(n)\n",
    "for num in palindromic_nums:\n",
    "    print(num)"
   ]
  },
  {
   "cell_type": "code",
   "execution_count": 28,
   "id": "0b47b8af-1a5f-4b5f-b8a7-8157bf7ad84b",
   "metadata": {},
   "outputs": [
    {
     "name": "stdin",
     "output_type": "stream",
     "text": [
      "Enter a number:  15\n"
     ]
    },
    {
     "name": "stdout",
     "output_type": "stream",
     "text": [
      "2\n",
      "4\n",
      "6\n",
      "8\n",
      "10\n",
      "12\n",
      "14\n"
     ]
    }
   ],
   "source": [
    "# 8. Write a code that generates even numbers from 2 to n using a generator.\n",
    "\n",
    "def even_nums(n):\n",
    "    for i in range(2, n+1):\n",
    "        if i%2==0:\n",
    "            yield i\n",
    "\n",
    "n = int(input(\"Enter a number: \"))\n",
    "evens = even_nums(n)\n",
    "for i in evens:\n",
    "    print(i)"
   ]
  },
  {
   "cell_type": "code",
   "execution_count": 26,
   "id": "907d9b04-bf43-4e58-b816-fa9f3fb7f769",
   "metadata": {},
   "outputs": [
    {
     "name": "stdin",
     "output_type": "stream",
     "text": [
      "Enter a number:  5\n"
     ]
    },
    {
     "name": "stdout",
     "output_type": "stream",
     "text": [
      "2\n",
      "4\n",
      "8\n",
      "16\n",
      "32\n"
     ]
    }
   ],
   "source": [
    "# 9. Write a code that generates powers of two up to n using a generator. \n",
    "\n",
    "def powers_of_two(n):\n",
    "    for i in range(1, n+1):\n",
    "        yield 2**i\n",
    "        \n",
    "n = int(input(\"Enter a number: \"))\n",
    "powers = powers_of_two(n)\n",
    "for i in powers:\n",
    "    print(i)"
   ]
  },
  {
   "cell_type": "code",
   "execution_count": 30,
   "id": "87f617cf-3d57-4574-a228-e08f81d04d9b",
   "metadata": {},
   "outputs": [
    {
     "name": "stdin",
     "output_type": "stream",
     "text": [
      "Enter a number:  10\n"
     ]
    },
    {
     "name": "stdout",
     "output_type": "stream",
     "text": [
      "2\n",
      "3\n",
      "5\n",
      "7\n"
     ]
    }
   ],
   "source": [
    "# 10. Write a code that generates prime numbers up to n using a generator.\n",
    "\n",
    "def is_prime(num):\n",
    "    if num <= 1:\n",
    "        return False\n",
    "    for i in range(2, num):\n",
    "        if num % i == 0:\n",
    "            return False\n",
    "    return True\n",
    "\n",
    "def prime_nums(n):\n",
    "    for i in range(1, n+1):\n",
    "        if is_prime(i):\n",
    "            yield i\n",
    "\n",
    "n = int(input(\"Enter a number: \"))\n",
    "primes = prime_nums(n)\n",
    "for i in primes:\n",
    "    print(i)"
   ]
  },
  {
   "cell_type": "code",
   "execution_count": 31,
   "id": "4e8c62fc-0ebf-4a13-b669-e00196891f4f",
   "metadata": {},
   "outputs": [
    {
     "name": "stdout",
     "output_type": "stream",
     "text": [
      "9\n"
     ]
    }
   ],
   "source": [
    "# 11. Write a code that uses a lambda function to calculate the sum of two numbers.\n",
    "\n",
    "add = lambda a,b : a+b\n",
    "\n",
    "print(add(3, 6))"
   ]
  },
  {
   "cell_type": "code",
   "execution_count": 32,
   "id": "a35e7dec-47b4-4738-9ab6-693adf0a350d",
   "metadata": {},
   "outputs": [
    {
     "name": "stdout",
     "output_type": "stream",
     "text": [
      "25\n"
     ]
    }
   ],
   "source": [
    "# 12. Write a code that uses a lambda function to calculate the square of a given number.\n",
    "\n",
    "square = lambda a: a**2\n",
    "\n",
    "print(square(5))"
   ]
  },
  {
   "cell_type": "code",
   "execution_count": 33,
   "id": "9499ddc5-0f30-4562-913f-7345c2645a3a",
   "metadata": {},
   "outputs": [
    {
     "name": "stdout",
     "output_type": "stream",
     "text": [
      "even\n"
     ]
    }
   ],
   "source": [
    "# 13. Write a code that uses a lambda function to check whether a given number is even or odd. \n",
    "\n",
    "even_odd = lambda n: \"even\" if n%2==0 else \"odd\"\n",
    "\n",
    "print(even_odd(4))"
   ]
  },
  {
   "cell_type": "code",
   "execution_count": 34,
   "id": "170eb2ff-df5f-4076-94b9-2988f7019e2b",
   "metadata": {},
   "outputs": [
    {
     "name": "stdout",
     "output_type": "stream",
     "text": [
      "GoodMorning\n"
     ]
    }
   ],
   "source": [
    "# 15. Write a code that uses a lambda function to concatenate two strings. \n",
    "\n",
    "concate = lambda s1, s2: s1+s2\n",
    "\n",
    "print(concate(\"Good\", \"Morning\"))"
   ]
  },
  {
   "cell_type": "code",
   "execution_count": 35,
   "id": "52d2174c-5bf3-4ed6-a993-223be4114bd0",
   "metadata": {},
   "outputs": [
    {
     "name": "stdout",
     "output_type": "stream",
     "text": [
      "9\n"
     ]
    }
   ],
   "source": [
    "# 16. Write a code that uses a lambda function to find the maximum of three given numbers.\n",
    "\n",
    "max_num = lambda n1,n2,n3 : max(n1,n2,n3)\n",
    "\n",
    "print(max_num(4, 2, 9))"
   ]
  },
  {
   "cell_type": "code",
   "execution_count": 37,
   "id": "8a1de737-db79-4808-a632-9cc3cdd61b59",
   "metadata": {},
   "outputs": [
    {
     "name": "stdout",
     "output_type": "stream",
     "text": [
      "4\n",
      "16\n",
      "36\n",
      "144\n",
      "196\n"
     ]
    }
   ],
   "source": [
    "# 17. Write a code that generates the squares of even numbers from a given list. \n",
    "\n",
    "def squares_of_evens(l):\n",
    "    \"\"\"This function takes a list as input and generates square of even numbers present in list.\"\"\"\n",
    "    for i in l:\n",
    "        if i%2 == 0:\n",
    "            yield i**2\n",
    "            \n",
    "nums = [1, 2, 4, 5, 6, 12, 9, 3, 14]\n",
    "even_squares = squares_of_evens(nums)\n",
    "\n",
    "for i in even_squares:\n",
    "    print(i)"
   ]
  },
  {
   "cell_type": "code",
   "execution_count": 41,
   "id": "08b2a922-e861-4534-8b32-1f1ef9ec95fb",
   "metadata": {},
   "outputs": [
    {
     "name": "stdout",
     "output_type": "stream",
     "text": [
      "288\n"
     ]
    }
   ],
   "source": [
    "# 18. Write a code that calculates the product of positive numbers from a given list. \n",
    "\n",
    "def product(l):\n",
    "    \"\"\"This function takes a list as input and returns product of positive numbers present in list.\"\"\"\n",
    "    result = 1\n",
    "    for i in l:\n",
    "        if i > 0:\n",
    "            result *= i\n",
    "    return result\n",
    "\n",
    "l1 = [2, 4, 0, 6, -10, 3, -4, -5, 2]\n",
    "print(product(l1))"
   ]
  },
  {
   "cell_type": "code",
   "execution_count": 45,
   "id": "e7fd5f94-fc3d-4150-881e-1e372087326b",
   "metadata": {},
   "outputs": [
    {
     "name": "stdout",
     "output_type": "stream",
     "text": [
      "[2, 6, 14, 10, 18]\n"
     ]
    }
   ],
   "source": [
    "# 19. Write a code that doubles the values of odd numbers from a given list. \n",
    "\n",
    "def doubles(l):\n",
    "    \"\"\"This function takes a list as input and returns a list containing doubled value of odd numbers present in list.\"\"\"\n",
    "    return [i*2 for i in l if i%2!=0]\n",
    "\n",
    "l1 = [2, 4, 1, 3, 7, 5, 8, 9]\n",
    "print(doubles(l1))"
   ]
  },
  {
   "cell_type": "code",
   "execution_count": 46,
   "id": "f94ed50c-cf95-41e2-b961-db235e29e3e7",
   "metadata": {},
   "outputs": [
    {
     "name": "stdout",
     "output_type": "stream",
     "text": [
      "441\n"
     ]
    }
   ],
   "source": [
    "# 20. Write a code that calculates the sum of cubes of numbers from a given list.\n",
    "\n",
    "def cube_sum(l):\n",
    "    \"\"\"This function takes a list as input and returns sum of cubes of numbers present in list.\"\"\"\n",
    "    return sum([i**3 for i in l])\n",
    "\n",
    "l1 = [1, 2, 3, 4, 5, 6]\n",
    "print(cube_sum(l1))"
   ]
  },
  {
   "cell_type": "code",
   "execution_count": 49,
   "id": "cf1deb84-6213-49ce-8892-fc3599392288",
   "metadata": {},
   "outputs": [
    {
     "name": "stdout",
     "output_type": "stream",
     "text": [
      "[2, 5, 7, 11, 13]\n"
     ]
    }
   ],
   "source": [
    "# 21. Write a code that filters out prime numbers from a given list.\n",
    "\n",
    "def is_prime(num):\n",
    "    \"\"\"This function checks if number is prime or not.\"\"\"\n",
    "    if num <= 1:\n",
    "        return False\n",
    "    for i in range(2, num):\n",
    "        if num % i == 0:\n",
    "            return False\n",
    "    return True\n",
    "\n",
    "def prime_nums(l):\n",
    "    \"\"\"This function takes a list as input and returns a list of prime numbers from list.\"\"\"\n",
    "    return [i for i in l if is_prime(i)]\n",
    "            \n",
    "l1 = [1, 2, 4, 5, 6, 7, 9, 12, 11, 13, 15]\n",
    "print(prime_nums(l1))"
   ]
  },
  {
   "cell_type": "code",
   "execution_count": 50,
   "id": "99410611-0d01-4590-87d5-1e2ede5e9c0d",
   "metadata": {},
   "outputs": [
    {
     "name": "stdout",
     "output_type": "stream",
     "text": [
      "10\n"
     ]
    }
   ],
   "source": [
    "# 22. Write a code that uses a lambda function to calculate the sum of two numbers.\n",
    "\n",
    "add = lambda a,b : a+b\n",
    "\n",
    "print(add(4, 6))"
   ]
  },
  {
   "cell_type": "code",
   "execution_count": 51,
   "id": "0d21bac4-340e-4fcb-8a1a-d032c50a143f",
   "metadata": {},
   "outputs": [
    {
     "name": "stdout",
     "output_type": "stream",
     "text": [
      "9\n"
     ]
    }
   ],
   "source": [
    "# 23. Write a code that uses a lambda function to calculate the square of a given number.\n",
    "\n",
    "square = lambda a: a**2\n",
    "\n",
    "print(square(3))"
   ]
  },
  {
   "cell_type": "code",
   "execution_count": 52,
   "id": "959b3f8c-96eb-4d8d-b94f-fa5290d18ac4",
   "metadata": {},
   "outputs": [
    {
     "name": "stdout",
     "output_type": "stream",
     "text": [
      "odd\n"
     ]
    }
   ],
   "source": [
    "# 24. Write a code that uses a lambda function to check whether a given number is even or odd. \n",
    "\n",
    "even_odd = lambda n: \"even\" if n%2==0 else \"odd\"\n",
    "\n",
    "print(even_odd(5))"
   ]
  },
  {
   "cell_type": "code",
   "execution_count": 53,
   "id": "31d43e01-d759-4023-addf-e92cc3235d3b",
   "metadata": {},
   "outputs": [
    {
     "name": "stdout",
     "output_type": "stream",
     "text": [
      "HelloWorld\n"
     ]
    }
   ],
   "source": [
    "# 25. Write a code that uses a lambda function to concatenate two strings.\n",
    "\n",
    "concate = lambda s1, s2: s1+s2\n",
    "\n",
    "print(concate(\"Hello\", \"World\"))"
   ]
  },
  {
   "cell_type": "code",
   "execution_count": 54,
   "id": "d340dfee-b918-413b-83a2-2e8f95705674",
   "metadata": {},
   "outputs": [
    {
     "name": "stdout",
     "output_type": "stream",
     "text": [
      "40\n"
     ]
    }
   ],
   "source": [
    "# 26. Write a code that uses a lambda function to find the maximum of three given numbers.\n",
    "\n",
    "max_num = lambda n1,n2,n3 : max(n1,n2,n3)\n",
    "\n",
    "print(max_num(11, 40, 23))"
   ]
  },
  {
   "cell_type": "code",
   "execution_count": 55,
   "id": "b96bc6c4-28cc-434d-8b2f-1f5484d46a87",
   "metadata": {},
   "outputs": [],
   "source": [
    "# 27. What is encapsulation in OOP? \n",
    "\n",
    "## Encapsulation is used for data security.\n",
    "## In encapsulation we make variable private which can not access or modify from outside of class.\n",
    "## To access or modify variable we define setter and getter methods.\n",
    "## We can also make methods private present in class.\n",
    "## So in encapsulation we encapules private variables and two method to access or modify that variable."
   ]
  },
  {
   "cell_type": "code",
   "execution_count": 56,
   "id": "ca404326-0090-485a-bf1c-5f31e6f69766",
   "metadata": {},
   "outputs": [],
   "source": [
    "# 28. Explain the use of access modifiers in Python classes.\n",
    "\n",
    "## Access modifiers in Python serve to enforce encapsulation, promoting data hiding and abstraction.\n",
    "## They help to prevent accidental modification of class members by external code, \n",
    "## enhancing code maintainability and security.\n",
    "\n",
    "## Public: Accessible from anywhere, both inside and outside the class.\n",
    "\n",
    "##Protected: Intended for internal use within the class and its subclasses. \n",
    "##It's a convention to treat them as non-public, but there's no strict enforcement.\n",
    "\n",
    "##Private: Intended for internal use within the class only.\n",
    "##Not accessible from outside the class without resorting to name mangling."
   ]
  },
  {
   "cell_type": "code",
   "execution_count": 57,
   "id": "1fb0ba19-4f6c-4a52-9819-05304eb207a7",
   "metadata": {},
   "outputs": [],
   "source": [
    "# 29. What is inheritance in OOP? \n",
    "\n",
    "## Inheritance is a one of the pillar of OOPs. Inheritance is obtained from real world. It means to inherite something.\n",
    "## Like son inherites genes or property from his parent. It is used in code resuability. We inherite a class from another \n",
    "## class. Inherited class is known as child class and from where it is inherited is known as parent class. Child class can \n",
    "## access all non private methods and attributes of parent class. If a method or attributes with same name present in child\n",
    "## class and parent class child class will execute its own method or attributes. To use parents class's method  or attributes\n",
    "## super() function is used. Where as parent can not access child class's mehtods or attributes. To inherite class we use \n",
    "## like this. \"class ChildClassName(ParentClassName): \"\n",
    "\n",
    "## There are 5 types of inheritance.\n",
    "## 1. Single level inheritance\n",
    "## 2. Multi level inheritance\n",
    "## 3. Multiple level inheritance\n",
    "## 4. Hierarchical inheritance\n",
    "## 5. Hybrid inheritance"
   ]
  },
  {
   "cell_type": "code",
   "execution_count": 58,
   "id": "cc8a5154-f8f1-44b2-a55a-9455c9a04402",
   "metadata": {},
   "outputs": [],
   "source": [
    "# 30. Define polymorphism in OOP.\n",
    "\n",
    "## Polymorphism promotes code reusability, flexibility, and extensibility by allowing\n",
    "## different classes to share the same interface while providing their own unique implementations.\n",
    "## It contains operator overloading, method overloading and method overriding.\n",
    "\n",
    "## Operator Overloading: '+' operator behaves diffrently according to diffrent class, i.e. when we use\n",
    "## '+' for two string it concate two string and for two int of float it adds value.\n",
    "\n",
    "## Method Overloading: In method overloading there are two methods with same name in one class,\n",
    "## but method's functionality is different according to input we provide to them. In python there is\n",
    "## a no pure concept of method overloading but it can achieve by some logic.\n",
    "\n",
    "## Method Overriding: If parent class and child class both have constructor child class's constructor\n",
    "## will over ride parant class's constructor. It is also applicable in methods with same name."
   ]
  },
  {
   "cell_type": "code",
   "execution_count": 59,
   "id": "a071f816-0d76-4ecf-9c88-00f6ad59594a",
   "metadata": {},
   "outputs": [],
   "source": [
    "# 31. Explain method overriding in Python.\n",
    "\n",
    "## Method overriding in Python refers to the ability of a child class to provide a specific implementation\n",
    "## of a method that is already defined in its parent class. i.e. If parent class and child class both have \n",
    "## constructor child class's constructor will over ride parant class's constructor.\n",
    "## It is also applicable in methods with same name."
   ]
  },
  {
   "cell_type": "code",
   "execution_count": 61,
   "id": "1b286555-4c90-449c-b3f2-55bc087e1a69",
   "metadata": {},
   "outputs": [
    {
     "name": "stdout",
     "output_type": "stream",
     "text": [
      "Generic animal sound\n",
      "Woof!\n"
     ]
    }
   ],
   "source": [
    "# 32. Define a parent class Animal with a method make_sound that prints \"Generic animal sound”. Create a \n",
    "# child class Dog inheriting from Animal with a method make_sound that prints \"Woof!\".\n",
    "\n",
    "class Animal:\n",
    "    def make_sound(self):\n",
    "        print(\"Generic animal sound\")\n",
    "        \n",
    "class Dog(Animal):\n",
    "    def make_sound(self):\n",
    "        print(\"Woof!\")\n",
    "        \n",
    "animal1 = Animal() # Animal class's object\n",
    "dog1 = Dog() # Dog class's object\n",
    "\n",
    "animal1.make_sound()\n",
    "dog1.make_sound()"
   ]
  },
  {
   "cell_type": "code",
   "execution_count": 62,
   "id": "d0b5c407-0228-44a6-a587-3766c4e8bb37",
   "metadata": {},
   "outputs": [
    {
     "name": "stdout",
     "output_type": "stream",
     "text": [
      "Animal moves\n",
      "Dog runs\n"
     ]
    }
   ],
   "source": [
    "# 33. Define a method move in the Animal class that prints \"Animal moves\". Override the move method in the \n",
    "# Dog class to print \"Dog runs.” \n",
    "\n",
    "class Animal:\n",
    "    def move(self):\n",
    "        print(\"Animal moves\")\n",
    "        \n",
    "class Dog(Animal):\n",
    "    def move(self):\n",
    "        print(\"Dog runs\")\n",
    "        \n",
    "animal1 = Animal() # Animal class's object\n",
    "dog1 = Dog() # Dog class's object\n",
    "\n",
    "animal1.move()\n",
    "dog1.move()"
   ]
  },
  {
   "cell_type": "code",
   "execution_count": 64,
   "id": "b70eb3ca-95d3-4bdc-a228-62e8e80b10de",
   "metadata": {},
   "outputs": [
    {
     "name": "stdout",
     "output_type": "stream",
     "text": [
      "Giving birth to live young.\n"
     ]
    }
   ],
   "source": [
    "# 34. Create a class Mammal with a method reproduce that prints “Giving birth to live young.\"” Create a class \n",
    "# DogMammal inheriting from both Dog and Mammal.\n",
    "\n",
    "class Mammal:\n",
    "    def reproduce(self):\n",
    "        print(\"Giving birth to live young.\")\n",
    "        \n",
    "class DogMammal(Dog, Mammal):\n",
    "    pass\n",
    "\n",
    "dog_mammal = DogMammal()\n",
    "dog_mammal.reproduce()"
   ]
  },
  {
   "cell_type": "code",
   "execution_count": 68,
   "id": "4d00e135-2237-4f5f-8dde-cab056cea227",
   "metadata": {},
   "outputs": [
    {
     "name": "stdout",
     "output_type": "stream",
     "text": [
      "Bark!\n"
     ]
    }
   ],
   "source": [
    "# 35. Create a class GermanShepherd inheriting from Dog and override the make_sound method to print \"Bark!\"\n",
    "\n",
    "class GermanShepaerd(Dog):\n",
    "    def make_sound(self):\n",
    "        print(\"Bark!\")\n",
    "\n",
    "german_sheperd = GermanShepaerd()\n",
    "german_sheperd.make_sound()"
   ]
  },
  {
   "cell_type": "code",
   "execution_count": 70,
   "id": "006daad1-9a20-4b4a-a665-3bc5129b4388",
   "metadata": {},
   "outputs": [
    {
     "name": "stdout",
     "output_type": "stream",
     "text": [
      "Canine\n",
      "Pug\n"
     ]
    }
   ],
   "source": [
    "# 36. Define constructors in both the Animal and Dog classes with different initialization parameters.\n",
    "\n",
    "class Animal:\n",
    "    def __init__(self, species):\n",
    "        self.species = species\n",
    "\n",
    "    def move(self):\n",
    "        print(\"Animal moves\")\n",
    "\n",
    "        \n",
    "class Dog(Animal):\n",
    "    def __init__(self, breed):\n",
    "        self.breed = breed\n",
    "\n",
    "    def move(self):\n",
    "        print(\"Dog runs\")\n",
    "        \n",
    "animal2 = Animal('Canine')\n",
    "dog2 = Dog(\"Pug\")\n",
    "\n",
    "print(animal2.species)\n",
    "print(dog2.breed)"
   ]
  },
  {
   "cell_type": "code",
   "execution_count": 71,
   "id": "2319e1e7-0ba5-4619-8362-7cde4bc076ad",
   "metadata": {},
   "outputs": [],
   "source": [
    "# 37. What is abstraction in Python? How is it implemented?\n",
    "\n",
    "## Abstraction is used for data hiding.\n",
    "## There is class which is a blueprint of its subclass. Which give an idea of methods present in subclass. but \n",
    "## we don't know logic behind it.\n",
    "## Abstraction can archieve by,\n",
    "## First we import @abstractmethod and ABC class from abc module and make aabstract class which is inherited from ABC class.\n",
    "## Abstract class should have atleat one abstract method present which is derived using @abstractmethod\n",
    "## decorator. All child class of abstract class should have that abstract method present.\n",
    "## We can not make object of abstract class."
   ]
  },
  {
   "cell_type": "code",
   "execution_count": 72,
   "id": "49f25bd0-45e9-44f0-b875-44610e1225fd",
   "metadata": {},
   "outputs": [],
   "source": [
    "# 38. Explain the importance of abstraction in object-oriented programming.\n",
    "\n",
    "## Hides implementation details, focusing on what an object does rather than how it does it.\n",
    "## Encourages code reusability by defining common interfaces for related classes.\n",
    "## Reduces code coupling by encapsulating implementation details behind well-defined interfaces.\n",
    "## Improves code maintainability by making it easier to modify and extend code over time.\n",
    "## Facilitates code understandability by providing a high-level view of the system, hiding unnecessary details."
   ]
  },
  {
   "cell_type": "code",
   "execution_count": 73,
   "id": "1a52670d-1b58-48e1-94aa-7a5bf660f1c5",
   "metadata": {},
   "outputs": [],
   "source": [
    "# 39. How are abstract methods different from regular methods in Python? \n",
    "\n",
    "## Regular methods have complete implementations and are called on objects directly.\n",
    "## Abstract methods are placeholders without implementations, declared in abstract classes,\n",
    "## and must be overridden by subclasses.\n",
    "## Regular methods execute specific actions, while abstract methods define method signatures\n",
    "## to enforce common interfaces in subclasses."
   ]
  },
  {
   "cell_type": "code",
   "execution_count": 74,
   "id": "a5d142ba-8697-4f1a-a597-f73f8e54ea8f",
   "metadata": {},
   "outputs": [],
   "source": [
    "# 40. How can you achieve abstraction using interfaces in Python?\n",
    "\n",
    "## It can achieving by creating abstract class.\n",
    "## To make abstract class we import ABC class from abc module and make class inherited by ABC class.\n",
    "## Define atleast one abstract method in abstract class using @abstractmethod decorator which is\n",
    "## also imported from abc module.\n",
    "## Make subclass of abstract class in which they have compulsory all abstract method present in abstract\n",
    "## class overriding them.\n",
    "## Abstract class can also have normal methods."
   ]
  },
  {
   "cell_type": "code",
   "execution_count": 3,
   "id": "954d4fe9-40ce-487a-b046-8ebd29de77a1",
   "metadata": {},
   "outputs": [
    {
     "name": "stdout",
     "output_type": "stream",
     "text": [
      "security for web application\n",
      "connect to database for web application\n",
      "security for mobile application\n",
      "connect to database for mobile application\n"
     ]
    }
   ],
   "source": [
    "# 41. Can you provide an example of how abstraction can be utilized to create a common interface for a group \n",
    "# of related classes in Python? \n",
    "\n",
    "from abc import ABC, abstractmethod\n",
    "\n",
    "class Bank(ABC):    \n",
    "    @abstractmethod\n",
    "    def security(self):\n",
    "        pass\n",
    "    \n",
    "    @abstractmethod\n",
    "    def database(self):\n",
    "        pass\n",
    "    \n",
    "    \n",
    "class Web(Bank):\n",
    "    def security(self):\n",
    "        print(\"security for web application\")\n",
    "    def database(self):\n",
    "        print(\"connect to database for web application\")\n",
    "\n",
    "    \n",
    "class Application(Bank):\n",
    "    def security(self):\n",
    "        print(\"security for mobile application\")\n",
    "    def database(self):\n",
    "        print(\"connect to database for mobile application\")\n",
    "        \n",
    "web_app = Web()\n",
    "mobile_app = Application()\n",
    "\n",
    "web_app.security()\n",
    "web_app.database()\n",
    "\n",
    "mobile_app.security()\n",
    "mobile_app.database()"
   ]
  },
  {
   "cell_type": "code",
   "execution_count": 5,
   "id": "1bd5608f-92df-488b-8fb0-c2bf3669b054",
   "metadata": {},
   "outputs": [
    {
     "name": "stdout",
     "output_type": "stream",
     "text": [
      "Vehicle class constructor called\n",
      "Audi class constructor called\n"
     ]
    }
   ],
   "source": [
    "# 42. How does Python achieve polymorphism through method overriding? \n",
    "\n",
    "class Vehicle:\n",
    "    def __init__(self, company, type_):\n",
    "        self.company = company\n",
    "        self.type_ = type_\n",
    "        print(\"Vehicle class constructor called\")\n",
    "        \n",
    "class Audi(Vehicle):\n",
    "    def __init__(self, model, color):\n",
    "        self.model = model\n",
    "        self.color = color\n",
    "        print(\"Audi class constructor called\")\n",
    "\n",
    "car = Vehicle('Audi', 'sedan')\n",
    "audi1 = Audi('A6', 'Black')\n",
    "\n",
    "## Heere Audi class is inherited from Vehicle class. Both have init method.\n",
    "## But  by method overriding Audi class's constructor overrides It's parent\n",
    "## class's costructor."
   ]
  },
  {
   "cell_type": "code",
   "execution_count": 8,
   "id": "bf6fd0b2-96a6-436b-a358-6862ce2bd36a",
   "metadata": {},
   "outputs": [
    {
     "name": "stdout",
     "output_type": "stream",
     "text": [
      "28.26\n"
     ]
    }
   ],
   "source": [
    "# 43. Define a base class with a method and a subclass that overrides the method.\n",
    "\n",
    "class Shape:\n",
    "    def calculate_area(self):\n",
    "        pass\n",
    "\n",
    "class Circle(Shape):\n",
    "    def __init__(self, radius):\n",
    "        self.radius = radius\n",
    "\n",
    "    def calculate_area(self):\n",
    "        return 3.14 * (self.radius**2)\n",
    "    \n",
    "c1 = Circle(3)\n",
    "print(c1.calculate_area())"
   ]
  },
  {
   "cell_type": "code",
   "execution_count": 15,
   "id": "c54f148b-b1ea-4957-8dd2-150738cad870",
   "metadata": {},
   "outputs": [
    {
     "name": "stdout",
     "output_type": "stream",
     "text": [
      "Meow!\n",
      "Cat moves\n",
      "Woff!!\n",
      "Dog moves\n"
     ]
    }
   ],
   "source": [
    "# 44. Define a base class and multiple subclasses with overridden methods.\n",
    "\n",
    "class Animal:\n",
    "    def make_sound(self):\n",
    "        pass\n",
    "    \n",
    "    def move(self):\n",
    "        pass\n",
    "    \n",
    "class Dog(Animal):\n",
    "    def __init__(self, breed):\n",
    "        self.breed = breed\n",
    "        \n",
    "    def make_sound(self):\n",
    "        return \"Woff!!\"\n",
    "    \n",
    "    def move(self):\n",
    "        return \"Dog moves\"\n",
    "        \n",
    "class Cat(Animal):\n",
    "    def __init__(self, breed):\n",
    "        self.breed = breed\n",
    "        \n",
    "    def make_sound(self):\n",
    "        return \"Meow!\"\n",
    "    \n",
    "    def move(self):\n",
    "        return \"Cat moves\"\n",
    "        \n",
    "animal1 = Animal()\n",
    "cat1 = Cat('Siamese')\n",
    "dog1 = Dog('Husky')\n",
    "\n",
    "print(cat1.make_sound())\n",
    "print(cat1.move())\n",
    "print(dog1.make_sound())\n",
    "print(dog1.move())"
   ]
  },
  {
   "cell_type": "code",
   "execution_count": 17,
   "id": "649e2d47-a0de-4bcf-8a8e-bdc9e55b90c3",
   "metadata": {},
   "outputs": [],
   "source": [
    "# 45. How does polymorphism improve code readability and reusability? \n",
    "\n",
    "## Polymorphism makes code easier to read by letting us treat different objects in the same way,\n",
    "## using a shared set of rules. This simplifies things and makes the code less confusing.\n",
    "## It also helps us reuse code more easily by letting us apply the same functions to different types of objects.\n",
    "## So, instead of writing the same thing over and over, we can use the same code with different objects,\n",
    "## saving time and effort. Overall, polymorphism helps keep our code clean and\n",
    "## organized while making it easier to work with different types of data."
   ]
  },
  {
   "cell_type": "code",
   "execution_count": 18,
   "id": "ffe94373-447d-47c9-80e6-e216aae5a471",
   "metadata": {},
   "outputs": [],
   "source": [
    "# 46. Describe how Python supports polymorphism with duck typing.\n",
    "\n",
    "## Python's duck typing lets us use objects based on what they can do, not what they are.\n",
    "## If an object has certain methods, we can use it like any other object with those methods,\n",
    "## no matter its actual type. This makes Python code flexible and easy to work with, as we\n",
    "## can focus on what objects can do rather than what they are."
   ]
  },
  {
   "cell_type": "code",
   "execution_count": 19,
   "id": "49bef049-b083-4694-9be0-84d6f15eb787",
   "metadata": {},
   "outputs": [],
   "source": [
    "# 47. How do you achieve encapsulation in Python?\n",
    "\n",
    "## Using double underscores (__) to mark variables and methods as private.\n",
    "## Providing getter and setter methods to change and access to private variables.\n",
    "## by encapsulation we can achieve data security."
   ]
  },
  {
   "cell_type": "code",
   "execution_count": 20,
   "id": "cc5e878e-59fa-4d6c-a482-ac3003f8842f",
   "metadata": {},
   "outputs": [],
   "source": [
    "# 48. Can encapsulation be bypassed in Python? If so, how? \n",
    "\n",
    "## Yes, encapsulation can be bypassed in Python.\n",
    "## Private variable and methods can access by name mangling. By using '_classname__variablename'.\n",
    "## Or by built-in functions setattr() and getattr() to access and modify private variables and methods"
   ]
  },
  {
   "cell_type": "code",
   "execution_count": 24,
   "id": "6a41c476-9983-4e9b-a493-a2cd79df2d5a",
   "metadata": {},
   "outputs": [
    {
     "name": "stdout",
     "output_type": "stream",
     "text": [
      "initially your balance is 20000\n",
      "after deposit your balance is 30000\n",
      "after withdraw your balance is 15000\n"
     ]
    }
   ],
   "source": [
    "# 49. Implement a class BankAccount with a private balance attribute. Include methods to deposit, withdraw, \n",
    "# and check the balance. \n",
    "\n",
    "class BankAccount:\n",
    "    def __init__(self, balance):\n",
    "        self.__balance = balance\n",
    "        \n",
    "    def deposit(self, amount):\n",
    "        self.__balance += amount\n",
    "        \n",
    "    def withdraw(self, amount):\n",
    "        if amount <= self.__balance:\n",
    "            self.__balance -= amount\n",
    "        else:\n",
    "            return\n",
    "    \n",
    "    def check_balance(self):\n",
    "        return f\"your balance is {self.__balance}\"\n",
    "\n",
    "account1 = BankAccount(20000)\n",
    "\n",
    "print('initially', account1.check_balance())\n",
    "account1.deposit(10000)\n",
    "print('after deposit', account1.check_balance())\n",
    "account1.withdraw(15000)\n",
    "print('after withdraw', account1.check_balance())"
   ]
  },
  {
   "cell_type": "code",
   "execution_count": 31,
   "id": "5c571b9e-59f8-4140-bbb6-bc751b98fc44",
   "metadata": {},
   "outputs": [
    {
     "name": "stdout",
     "output_type": "stream",
     "text": [
      "Initially name is Mohit and email is mohit123@gmail.com\n",
      "After changing name is Rohit and email is roit123@gmail.com\n"
     ]
    }
   ],
   "source": [
    "# 50. Develop a Person class with private attributes name and email, and methods to set and get the email. \n",
    "\n",
    "class Person:\n",
    "    def __init__(self, name, email):\n",
    "        self.__name = name\n",
    "        self.__email = email\n",
    "        \n",
    "    def get_name(self):\n",
    "        return self.__name\n",
    "    \n",
    "    def get_email(self):\n",
    "        return self.__email\n",
    "    \n",
    "    def set_name(self, new_name):\n",
    "        self.__name = new_name\n",
    "        \n",
    "    def set_email(self, new_email):\n",
    "        self.__email = new_email\n",
    "        \n",
    "p1 = Person('Mohit', 'mohit123@gmail.com')\n",
    "print(f'Initially name is {p1.get_name()} and email is {p1.get_email()}')\n",
    "\n",
    "p1.set_name('Rohit')\n",
    "p1.set_email('roit123@gmail.com')\n",
    "\n",
    "print(f'After changing name is {p1.get_name()} and email is {p1.get_email()}')"
   ]
  },
  {
   "cell_type": "code",
   "execution_count": 32,
   "id": "efb2d177-675b-4c29-8a4d-6c6006d490c1",
   "metadata": {},
   "outputs": [],
   "source": [
    "# 51. Why is encapsulation considered a pillar of object-oriented programming (OOP)?\n",
    "\n",
    "## encapsulation is considered a pillar of object-oriented programming (OOP) because it,\n",
    "## Keeps data safe and secure by hiding it from outside interference.\n",
    "## Simplifies complex systems by focusing on the most important parts.\n",
    "## Makes it easier to reuse and build code independently.\n",
    "## Adds security by controlling how data is accessed and used."
   ]
  },
  {
   "cell_type": "code",
   "execution_count": 44,
   "id": "89724462-d9aa-450d-9741-84d1a26e9817",
   "metadata": {},
   "outputs": [
    {
     "name": "stdout",
     "output_type": "stream",
     "text": [
      "**********\n",
      "11\n",
      "__________\n"
     ]
    }
   ],
   "source": [
    "# 52. Create a decorator in Python that adds functionality to a simple function by printing a message before \n",
    "# and after the function execution. \n",
    "    \n",
    "def outer(func):\n",
    "    def inner(*args):\n",
    "        print(\"**********\")\n",
    "        result = func(*args)\n",
    "        print(result)\n",
    "        print(\"__________\")\n",
    "    return inner\n",
    "\n",
    "@outer\n",
    "def add(a, b):\n",
    "    if (type(a)==int or type(a)==float) and (type(b)==int or type(b)==float):\n",
    "        return a+b\n",
    "    else:\n",
    "        return\n",
    "add(5, 6)"
   ]
  },
  {
   "cell_type": "code",
   "execution_count": 53,
   "id": "4f673561-be75-42d1-8f30-3a367c1e5091",
   "metadata": {},
   "outputs": [
    {
     "name": "stdout",
     "output_type": "stream",
     "text": [
      "add: This function print sum of two numbers\n",
      "**********\n",
      "11\n",
      "__________\n"
     ]
    }
   ],
   "source": [
    "# 53. Modify the decorator to accept arguments and print the function name along with the message. \n",
    "\n",
    "def outer1(name, msg):\n",
    "    def outer(func):\n",
    "        def inner(*args):\n",
    "            print(f\"{name}: {msg}\")\n",
    "            print(\"**********\")\n",
    "            result = func(*args)\n",
    "            print(result)\n",
    "            print(\"__________\")\n",
    "        return inner\n",
    "    return outer\n",
    "\n",
    "@outer1('add', 'This function print sum of two numbers')\n",
    "def add(a, b):\n",
    "    if (type(a)==int or type(a)==float) and (type(b)==int or type(b)==float):\n",
    "        return a+b\n",
    "    else:\n",
    "        return\n",
    "\n",
    "add(5, 6)"
   ]
  },
  {
   "cell_type": "code",
   "execution_count": 55,
   "id": "4cc3180a-1449-4672-8ac8-e0fdad3bde6d",
   "metadata": {},
   "outputs": [
    {
     "name": "stdout",
     "output_type": "stream",
     "text": [
      "['HELLO,', 'GOOD', 'MORNING']\n"
     ]
    }
   ],
   "source": [
    "# 54. Create two decorators, and apply them to a single function. Ensure that they execute in the order they are \n",
    "# applied. \n",
    "\n",
    "def uppercase(func):\n",
    "    def inner():\n",
    "        return func().upper()\n",
    "    return inner\n",
    "\n",
    "def to_list(func):\n",
    "    def inner():\n",
    "        return func().split()\n",
    "    return inner\n",
    "\n",
    "@to_list\n",
    "@uppercase\n",
    "def greet():\n",
    "    return \"Hello, good morning\"\n",
    "\n",
    "print(greet())"
   ]
  },
  {
   "cell_type": "code",
   "execution_count": 57,
   "id": "ddaaa5c6-6d0a-4df5-b0b9-8f01235eb389",
   "metadata": {},
   "outputs": [
    {
     "name": "stdout",
     "output_type": "stream",
     "text": [
      "HELLO, HOW ARE YOU?\n"
     ]
    }
   ],
   "source": [
    "# 55. Modify the decorator to accept and pass function arguments to the wrapped function. \n",
    "\n",
    "def uppercase(func):\n",
    "    def inner(*args, **kwargs):\n",
    "        return func(*args, **kwargs).upper()\n",
    "    return inner\n",
    "\n",
    "@uppercase\n",
    "def greet(msg):\n",
    "    return f\"Hello, {msg}\"\n",
    "\n",
    "print(greet(\"How are you?\"))"
   ]
  },
  {
   "cell_type": "code",
   "execution_count": 65,
   "id": "17e3029e-fa8c-485e-872b-5672ff8fa716",
   "metadata": {},
   "outputs": [
    {
     "name": "stdout",
     "output_type": "stream",
     "text": [
      "Original function name: func1\n",
      "Original function docstring: This is my function.\n"
     ]
    }
   ],
   "source": [
    "# 56. Create a decorator that preserves the metadata of the original function. \n",
    "\n",
    "from functools import wraps\n",
    "\n",
    "def decor(func):\n",
    "    @wraps(func)\n",
    "    def inner(*args, **kwargs):\n",
    "        \"\"\"Inner function preserving metadata.\"\"\"\n",
    "        return func(*args, **kwargs)\n",
    "    return inner\n",
    "\n",
    "@decor\n",
    "def func1():\n",
    "    \"\"\"This is my function.\"\"\"\n",
    "    pass\n",
    "\n",
    "print(\"Original function name:\", func1.__name__)\n",
    "print(\"Original function docstring:\", func1.__doc__)"
   ]
  },
  {
   "cell_type": "code",
   "execution_count": 71,
   "id": "f85c0d3d-2efe-4d1a-ab15-623b22ef0786",
   "metadata": {},
   "outputs": [
    {
     "name": "stdout",
     "output_type": "stream",
     "text": [
      "9\n"
     ]
    }
   ],
   "source": [
    "# 57. Create a Python class \"Calculator” with a static method “add’ that takes in two numbers and returns their sum. \n",
    "\n",
    "class Calculator:\n",
    "    @staticmethod\n",
    "    def add(a, b):\n",
    "        return a+b\n",
    "\n",
    "print(Calculator.add(4, 5))\n",
    "\n",
    "#to call static method we don't need to initiate any object of class we can use it by class referance."
   ]
  },
  {
   "cell_type": "code",
   "execution_count": 76,
   "id": "078adb43-94b7-4925-bf59-8e7178268e59",
   "metadata": {},
   "outputs": [
    {
     "name": "stdout",
     "output_type": "stream",
     "text": [
      "Total numbers of employees are 3\n"
     ]
    }
   ],
   "source": [
    "# 58. Create a Python class ‘Employee” with a class method 'get_employee_count' that returns the total \n",
    "# number of employees created.\n",
    "\n",
    "class Employee:\n",
    "    count_of_employee = 0\n",
    "    \n",
    "    def __init__(self):\n",
    "        Employee.count_of_employee += 1\n",
    "        \n",
    "    @classmethod\n",
    "    def get_employee_count(cls):\n",
    "        return cls.count_of_employee\n",
    "\n",
    "emp1 = Employee()\n",
    "emp2 = Employee()\n",
    "emp3 = Employee()\n",
    "\n",
    "print(f\"Total numbers of employees are {Employee.get_employee_count()}\")"
   ]
  },
  {
   "cell_type": "code",
   "execution_count": 77,
   "id": "8d1156fa-4891-4b6c-9716-20a7b4624425",
   "metadata": {},
   "outputs": [
    {
     "name": "stdout",
     "output_type": "stream",
     "text": [
      "sllikSWP\n"
     ]
    }
   ],
   "source": [
    "# 59. Create a Python class “StringFormatter” with a static method ‘reverse_string’ that takes a string as input \n",
    "# and returns its reverse. \n",
    "\n",
    "class StringFormatter:\n",
    "    \n",
    "    @staticmethod\n",
    "    def reverse_string(s):\n",
    "        return s[::-1]\n",
    "\n",
    "string = \"PWSkills\"\n",
    "print(StringFormatter.reverse_string(string))"
   ]
  },
  {
   "cell_type": "code",
   "execution_count": 80,
   "id": "5e0e6d89-a3d7-4616-b2e1-c5d328c8bcad",
   "metadata": {},
   "outputs": [
    {
     "name": "stdout",
     "output_type": "stream",
     "text": [
      "78.5\n"
     ]
    }
   ],
   "source": [
    "# 60. Create a Python class “Circle” with a class method “calculate_area’ that calculates the area of a circle \n",
    "# given its radius. \n",
    "\n",
    "class Circle:\n",
    "    \n",
    "    @classmethod\n",
    "    def calculate_area(cls, r):\n",
    "        return 3.14*(r**2)\n",
    "    \n",
    "print(Circle.calculate_area(5))"
   ]
  },
  {
   "cell_type": "code",
   "execution_count": 86,
   "id": "aae8ae1e-c14a-4c4e-8184-bcc7a93dfff6",
   "metadata": {},
   "outputs": [
    {
     "name": "stdout",
     "output_type": "stream",
     "text": [
      "20 degrees of celsius is equal to 68.0 degrees fahrenheit.\n"
     ]
    }
   ],
   "source": [
    "# 61. Create a Python class “TemperatureConverter” with a static method “celsius_to_fahrenheit’ that converts \n",
    "# Celsius to Fahrenheit. \n",
    "\n",
    "class TemperatureConverter:\n",
    "    \n",
    "    @staticmethod\n",
    "    def celsius_to_fahrenheit(celc):\n",
    "        return (celc * 9/5) + 32\n",
    "    \n",
    "fahrenheit = TemperatureConverter.celsius_to_fahrenheit(20)\n",
    "print(f\"20 degrees of celsius is equal to {fahrenheit} degrees fahrenheit.\")"
   ]
  },
  {
   "cell_type": "code",
   "execution_count": 88,
   "id": "cd529661-5f9c-490b-af88-e58fd35420b4",
   "metadata": {
    "tags": []
   },
   "outputs": [
    {
     "name": "stdout",
     "output_type": "stream",
     "text": [
      "5/8\n"
     ]
    }
   ],
   "source": [
    "# 62. What is the purpose of the __str__() method in Python classes? Provide an example.\n",
    "\n",
    "## __str__() method is a one of the magic method in python which will give a string\n",
    "## as a output when we use print function\n",
    "\n",
    "class Fraction:\n",
    "    def __init__(self, x, y):\n",
    "        self.x_cor = x\n",
    "        self.y_cor = y\n",
    "        \n",
    "    def __str__(self):\n",
    "        return f\"{self.x_cor}/{self.y_cor}\"\n",
    "\n",
    "frac1 = Fraction(5, 8)\n",
    "print(frac1)"
   ]
  },
  {
   "cell_type": "code",
   "execution_count": 97,
   "id": "2fb202aa-e008-404f-9cd3-a40380db0364",
   "metadata": {},
   "outputs": [
    {
     "name": "stdout",
     "output_type": "stream",
     "text": [
      "Total lists present in list are 3\n"
     ]
    }
   ],
   "source": [
    "# 63. How does the __len__() method work in Python? Provide an example.\n",
    "\n",
    "## __len__() method is also a magic method in python. We call it by using len().\n",
    "## it gives length according to different data type i.e. in str len() will give total characters,\n",
    "## in list it will give total elements.\n",
    "\n",
    "class ListCount:\n",
    "    def __init__(self, l):\n",
    "        self.l = l\n",
    "        \n",
    "    def __len__(self):\n",
    "        count = 0\n",
    "        for i in self.l:\n",
    "            if type(i) == list:\n",
    "                count += 1\n",
    "        return count\n",
    "    \n",
    "obj1 = ListCount([1, 'apple', [4, 6, 5], ['cat', 'dog', 'rat'], True, [2, 3.3]])\n",
    "print(f\"Total lists present in list are {len(obj1)}\")\n",
    "\n",
    "## Her when we use len() passing object of MyLen class it will give total numbers of lists present in a list."
   ]
  },
  {
   "cell_type": "code",
   "execution_count": 104,
   "id": "54e6fa51-044b-4f30-9802-4655afa03bbe",
   "metadata": {},
   "outputs": [
    {
     "name": "stdout",
     "output_type": "stream",
     "text": [
      "Total page numbers of 'Hemlet' and 'The stranger' are 750\n",
      "Total page numbers of 'Hemlet', 'The stranger' and 'War and Peace' are 1280\n"
     ]
    }
   ],
   "source": [
    "# 64. Explain the usage of the __add__() method in Python classes. Provide an example.\n",
    "\n",
    "## __add__() method is called when we use '+' operator.\n",
    "## When we use +, it will check in left operand's class if there is __add__() method defines or not.\n",
    "## If there is it will give result according to it i.e. for int it will add two nums, for str\n",
    "## it will concate two strings.\n",
    "\n",
    "class Book:\n",
    "    def __init__(self, title, pages):\n",
    "        self.title = title\n",
    "        self.pages = pages\n",
    "        \n",
    "    def __add__(self, other):\n",
    "        total = self.pages + other.pages\n",
    "        return Book('All books', total)\n",
    "    \n",
    "    def __str__(self):\n",
    "        return str(self.pages)\n",
    "    \n",
    "book1 = Book('Hemlet', 400)\n",
    "book2 = Book('The stranger', 350)\n",
    "book3 = Book('War and Peace', 530)\n",
    "\n",
    "print(f\"Total page numbers of '{book1.title}' and '{book2.title}' are {book1 + book2}\")\n",
    "print(f\"Total page numbers of '{book1.title}', '{book2.title}' and '{book3.title}' are {book1 + book2 + book3}\")\n",
    "\n",
    "## here we use __add__() method to print total book pages of all Book class's objects.\n",
    "## used __str__() method to print total of page numbers.\n",
    "## Because by only __add__() method we can only add two object.\n",
    "## By this modification we can pass n number of objects to obtain total page numbers."
   ]
  },
  {
   "cell_type": "code",
   "execution_count": 105,
   "id": "d347d93a-54b1-4285-8ba8-554b1db5eff2",
   "metadata": {},
   "outputs": [
    {
     "name": "stdout",
     "output_type": "stream",
     "text": [
      "30\n"
     ]
    }
   ],
   "source": [
    "# 65. What is the purpose of the __getitem__() method in Python? Provide an example.\n",
    "\n",
    "## The __getitem__() method in Python is also a special method, that allows an object to support indexing.\n",
    "## By this method we can allow instances of classes to be indexed just like lists or dictionaries.\n",
    "\n",
    "class CustomList:\n",
    "    def __init__(self, elements):\n",
    "        self.elements = elements\n",
    "\n",
    "    def __getitem__(self, index):\n",
    "        return self.elements[index]\n",
    "\n",
    "my_list = CustomList([10, 20, 30, 40, 50])\n",
    "print(my_list[2])"
   ]
  },
  {
   "cell_type": "code",
   "execution_count": 110,
   "id": "288875b7-9204-4661-aba8-fcbf62c88cb0",
   "metadata": {},
   "outputs": [
    {
     "name": "stdout",
     "output_type": "stream",
     "text": [
      "1\n",
      "2\n",
      "3\n",
      "4\n",
      "5\n",
      "9\n",
      "0\n",
      "6\n"
     ]
    }
   ],
   "source": [
    "# 66. Explain the usage of the __iter__() and __next__() methods in Python. Provide an example using \n",
    "# iterators. \n",
    "\n",
    "## The __iter__() method is called when the iterator is initialized.\n",
    "## It returns the iterator object.\n",
    "## The __next__() method is called to retrieve the next element from the iterator.\n",
    "## It returns the next element of the sequence or raise a StopIteration exception\n",
    "## when there are no more elements to be retrieved.\n",
    "\n",
    "class MyIterator:\n",
    "    def __init__(self, l):\n",
    "        self.l = l\n",
    "        self.index = 0\n",
    "    \n",
    "    def __iter__(self):\n",
    "        return self\n",
    "    \n",
    "    def __next__(self):\n",
    "        if self.index < len(self.l):\n",
    "            value = self.l[self.index]\n",
    "            self.index += 1\n",
    "            return value\n",
    "        else:\n",
    "            raise StopIteration\n",
    "\n",
    "iterator1 = MyIterator([1, 2, 3, 4, 5, 9, 0, 6])\n",
    "\n",
    "for i in iterator1:\n",
    "    print(i)"
   ]
  },
  {
   "cell_type": "code",
   "execution_count": 111,
   "id": "67e9458e-0ce4-446c-82f1-d7e88308fae9",
   "metadata": {},
   "outputs": [
    {
     "name": "stdout",
     "output_type": "stream",
     "text": [
      "Radius of the circle: 5\n"
     ]
    }
   ],
   "source": [
    "# 67. What s the purpose of a getter method in Python? Provide an example demonstrating the use of a getter \n",
    "# method using property decorators.\n",
    "\n",
    "## In Python, a getter method is used to retrieve the value of a private attribute of a class.\n",
    "## It allows accessing the attribute in a controlled manner, typically by providing read-only access\n",
    "## to the attribute's value. The property decorator is commonly used to create getter methods in Python.\n",
    "## It allows defining a method that behaves like an attribute\n",
    "\n",
    "\n",
    "class Circle:\n",
    "    def __init__(self, radius):\n",
    "        self._radius = radius\n",
    "        \n",
    "    @property\n",
    "    def radius(self):\n",
    "        return self._radius\n",
    "\n",
    "circle = Circle(5)\n",
    "\n",
    "print(\"Radius of the circle:\", circle.radius)"
   ]
  },
  {
   "cell_type": "code",
   "execution_count": 1,
   "id": "38eee8c2-0171-46eb-b871-eadf3a61da4f",
   "metadata": {},
   "outputs": [
    {
     "name": "stdout",
     "output_type": "stream",
     "text": [
      "Radius of the circle initially: 5\n",
      "Radius of the circle after changing: 9\n"
     ]
    }
   ],
   "source": [
    "# 68. Explain the role of setter methods in Python. Demonstrate how to use a setter method to modify a class \n",
    "# attribute using property decorators.\n",
    "\n",
    "## Property decorators are commonly used to define setter methods in Python.\n",
    "## It allows to define a method that behaves like an attribute, enabling to set the value of an variable.\n",
    "\n",
    "class Circle:\n",
    "    def __init__(self, radius):\n",
    "        self._radius = radius  # Private attribute\n",
    "    \n",
    "    @property\n",
    "    def radius(self):\n",
    "        return self._radius\n",
    "    \n",
    "    @radius.setter\n",
    "    def radius(self, value):\n",
    "        if value > 0:\n",
    "            self._radius = value\n",
    "        else:\n",
    "            return\n",
    "\n",
    "\n",
    "circle = Circle(5)\n",
    "print(\"Radius of the circle initially:\", circle.radius)\n",
    "\n",
    "circle.radius = 9\n",
    "print(\"Radius of the circle after changing:\", circle.radius)"
   ]
  },
  {
   "cell_type": "code",
   "execution_count": 1,
   "id": "bd5e9c5c-f3b8-468b-be58-2013cbc1c506",
   "metadata": {},
   "outputs": [
    {
     "name": "stdout",
     "output_type": "stream",
     "text": [
      "Temperature in fahrenheit 86.0\n",
      "Temperature in fahrenheit after changing 110.0\n"
     ]
    }
   ],
   "source": [
    "# 69. What is the purpose of the @property decorator in Python? Provide an example illustrating its usage. \n",
    "\n",
    "\n",
    "## The @property decorator in Python is used to define getter and setter methods for class attributes,\n",
    "## allowing them to be accessed and modified like properties rather than regular methods.\n",
    "\n",
    "class Temperature:\n",
    "    def __init__(self, celsius):\n",
    "        self.__celsius = celsius\n",
    "\n",
    "    @property\n",
    "    def fahrenheit(self):\n",
    "        return (self.__celsius * 9/5) + 32\n",
    "\n",
    "    @fahrenheit.setter\n",
    "    def fahrenheit(self, value):\n",
    "        self.__celsius = (value - 32) * 5/9\n",
    "\n",
    "temp = Temperature(30)\n",
    "print(\"Temperature in fahrenheit\", temp.fahrenheit)\n",
    "\n",
    "temp.fahrenheit = 110\n",
    "\n",
    "print(\"Temperature in fahrenheit after changing\", temp.fahrenheit)"
   ]
  },
  {
   "cell_type": "code",
   "execution_count": 1,
   "id": "f06c6cdd-5635-4c44-aec6-bb200bb330fe",
   "metadata": {},
   "outputs": [
    {
     "name": "stdout",
     "output_type": "stream",
     "text": [
      "Mohit\n"
     ]
    },
    {
     "ename": "AttributeError",
     "evalue": "'Person' object has no attribute '_Person__name'",
     "output_type": "error",
     "traceback": [
      "\u001b[0;31m---------------------------------------------------------------------------\u001b[0m",
      "\u001b[0;31mAttributeError\u001b[0m                            Traceback (most recent call last)",
      "Cell \u001b[0;32mIn[1], line 26\u001b[0m\n\u001b[1;32m     23\u001b[0m \u001b[38;5;28mprint\u001b[39m(person\u001b[38;5;241m.\u001b[39mname)\n\u001b[1;32m     25\u001b[0m \u001b[38;5;28;01mdel\u001b[39;00m person\u001b[38;5;241m.\u001b[39mname\n\u001b[0;32m---> 26\u001b[0m \u001b[38;5;28mprint\u001b[39m(\u001b[43mperson\u001b[49m\u001b[38;5;241;43m.\u001b[39;49m\u001b[43mname\u001b[49m)\n",
      "Cell \u001b[0;32mIn[1], line 12\u001b[0m, in \u001b[0;36mPerson.name\u001b[0;34m(self)\u001b[0m\n\u001b[1;32m     10\u001b[0m \u001b[38;5;129m@property\u001b[39m\n\u001b[1;32m     11\u001b[0m \u001b[38;5;28;01mdef\u001b[39;00m \u001b[38;5;21mname\u001b[39m(\u001b[38;5;28mself\u001b[39m):\n\u001b[0;32m---> 12\u001b[0m     \u001b[38;5;28;01mreturn\u001b[39;00m \u001b[38;5;28;43mself\u001b[39;49m\u001b[38;5;241;43m.\u001b[39;49m\u001b[43m__name\u001b[49m\n",
      "\u001b[0;31mAttributeError\u001b[0m: 'Person' object has no attribute '_Person__name'"
     ]
    }
   ],
   "source": [
    "# 70. Explain the use of the @deleter decorator in Python property decorators. Provide a code example \n",
    "# demonstrating its application. \n",
    "\n",
    "## The @deleter decorator in Python is used to define a method that will delete a property.\n",
    "\n",
    "class Person:\n",
    "    def __init__(self, name):\n",
    "        self.__name = name\n",
    "\n",
    "    @property\n",
    "    def name(self):\n",
    "        return self.__name\n",
    "\n",
    "    @name.setter\n",
    "    def name(self, new_name):\n",
    "        self.__name = new_name\n",
    "\n",
    "    @name.deleter\n",
    "    def name(self):\n",
    "        del self.__name\n",
    "\n",
    "person = Person(\"Mohit\")\n",
    "print(person.name)\n",
    "\n",
    "del person.name\n",
    "print(person.name)"
   ]
  },
  {
   "cell_type": "code",
   "execution_count": 3,
   "id": "6bdb3985-27d6-40b0-b6b1-356e743b0260",
   "metadata": {},
   "outputs": [
    {
     "name": "stdout",
     "output_type": "stream",
     "text": [
      "Rohit\n",
      "Mohit\n"
     ]
    }
   ],
   "source": [
    "# 71. How does encapsulation relate to property decorators in Python? Provide an example showcasing \n",
    "# encapsulation using property decorators.\n",
    "\n",
    "## Encapsulation in Python is related to property decorators as property decorators allow us\n",
    "## to encapsulate the access to class private variables by providing getter and setter methods.\n",
    "## This helps to access and modify private variables from outside the class.\n",
    "## We can use methods as attributes i.e. don't need to call methods.\n",
    "\n",
    "class Person:\n",
    "    def __init__(self, name):\n",
    "        self.__name = name\n",
    "\n",
    "    @property\n",
    "    def name(self):\n",
    "        return self.__name\n",
    "    \n",
    "    @name.setter\n",
    "    def name(self, new_name):\n",
    "        self.__name = new_name\n",
    "\n",
    "person = Person(\"Rohit\")\n",
    "print(person.name)\n",
    "\n",
    "person.name = \"Mohit\"\n",
    "print(person.name)"
   ]
  },
  {
   "cell_type": "code",
   "execution_count": null,
   "id": "6af176a0-a115-4eea-9550-d5ee380e9b06",
   "metadata": {},
   "outputs": [],
   "source": []
  },
  {
   "cell_type": "code",
   "execution_count": null,
   "id": "76fb33aa-4b35-429a-9153-0ebbc16010d7",
   "metadata": {},
   "outputs": [],
   "source": []
  }
 ],
 "metadata": {
  "kernelspec": {
   "display_name": "Python 3 (ipykernel)",
   "language": "python",
   "name": "python3"
  },
  "language_info": {
   "codemirror_mode": {
    "name": "ipython",
    "version": 3
   },
   "file_extension": ".py",
   "mimetype": "text/x-python",
   "name": "python",
   "nbconvert_exporter": "python",
   "pygments_lexer": "ipython3",
   "version": "3.10.8"
  }
 },
 "nbformat": 4,
 "nbformat_minor": 5
}
